{
 "cells": [
  {
   "cell_type": "markdown",
   "id": "30a60c5b",
   "metadata": {},
   "source": [
    "# Index   "
   ]
  },
  {
   "cell_type": "markdown",
   "id": "8834dfc1",
   "metadata": {},
   "source": [
    "### Importing libraries"
   ]
  },
  {
   "cell_type": "code",
   "execution_count": 1,
   "id": "4a57c6d2",
   "metadata": {},
   "outputs": [],
   "source": [
    "%matplotlib inline\n",
    "%config InlineBackend.figure_format = 'retina'\n",
    "import os\n",
    "import glob\n",
    "import json\n",
    "import numpy as np\n",
    "import pandas as pd\n",
    "import matplotlib.pyplot as plt\n",
    "import tensorflow as tf\n",
    "import cv2\n",
    "from tensorflow.keras.preprocessing.image import ImageDataGenerator\n",
    "from tensorflow.keras import  applications\n",
    "from tensorflow.keras.models import Sequential\n",
    "from tensorflow.keras.layers import Conv2D,Conv1D, MaxPool2D,GlobalAveragePooling2D, Flatten, Dense, Dropout, BatchNormalization\n",
    "from tensorflow.keras.callbacks import ModelCheckpoint, EarlyStopping, ReduceLROnPlateau\n",
    "from tensorflow.keras.optimizers import Adam\n",
    "\n",
    "import warnings\n",
    "warnings.filterwarnings('ignore')\n",
    "import random\n",
    "import logging\n",
    "logger = tf.get_logger()\n",
    "logger.setLevel(logging.ERROR)\n",
    "import glob\n",
    "import shutil\n",
    "import os\n",
    "import itertools\n",
    "from sklearn.metrics import confusion_matrix ,classification_report"
   ]
  },
  {
   "cell_type": "code",
   "execution_count": 3,
   "id": "a6988ba4",
   "metadata": {},
   "outputs": [],
   "source": [
    "# import pandas as pd \n",
    "import os\n",
    "import pathlib\n",
    "#import cv2\n",
    "import tensorflow as tf\n",
    "from tensorflow import keras\n",
    "from tensorflow.keras import layers\n",
    "from tensorflow.keras.models import Sequential\n",
    "\n"
   ]
  },
  {
   "cell_type": "code",
   "execution_count": null,
   "id": "3b223310",
   "metadata": {},
   "outputs": [],
   "source": [
    "\n",
    "import tensorflow_hub as hub\n",
    "import warnings\n",
    "warnings.filterwarnings('ignore')\n",
    "os.environ[\"KMP_WARNINGS\"] = \"FALSE\" \n",
    "\n"
   ]
  },
  {
   "cell_type": "markdown",
   "id": "5930eeb2",
   "metadata": {},
   "source": [
    "# Building the neuronal network"
   ]
  },
  {
   "cell_type": "code",
   "execution_count": null,
   "id": "f472ea48",
   "metadata": {},
   "outputs": [],
   "source": [
    "https://medium.com/@himancodes/building-an-image-classifier-from-scratch-using-convolutional-neural-networks-c9ebcde3a53e"
   ]
  },
  {
   "cell_type": "markdown",
   "id": "1c6e9cb9",
   "metadata": {},
   "source": [
    "from tensorflow.keras.applications.mobilenet_v2 import MobileNetV2\n",
    "\n",
    "base = MobileNetV2(weights = 'imagenet', include_top = False, input_shape = (224, 224, 3))\n",
    "tf.keras.backend.clear_session()\n",
    "    \n",
    "for layer in base.layers:\n",
    "    layer.trainable =  False\n",
    "\n",
    "mobilenet_model = Sequential()\n",
    "mobilenet_model.add(base)\n",
    "mobilenet_model.add(GlobalAveragePooling2D())\n",
    "\n",
    "mobilenet_model.add(Dense(256, activation='relu'))\n",
    "mobilenet_model.add(Dropout(0.1))\n",
    "\n",
    "mobilenet_model.add(Dense(256, activation='relu'))\n",
    "mobilenet_model.add(Dropout(0.1))\n",
    "mobilenet_model.add(Dense(3, activation='softmax')) #last layer should have as many neuron as options = 3 sports"
   ]
  },
  {
   "cell_type": "markdown",
   "id": "4ae89ae0",
   "metadata": {},
   "source": [
    "To implement f1 macro score in Keras should be done in one of the following solutions:"
   ]
  },
  {
   "cell_type": "code",
   "execution_count": null,
   "id": "6625ae4d",
   "metadata": {},
   "outputs": [],
   "source": [
    "import tensorflow as tf\n",
    "import keras.backend as K\n",
    "\n",
    "def f1(y_true, y_pred):\n",
    "    y_pred = K.round(y_pred)\n",
    "    tp = K.sum(K.cast(y_true*y_pred, 'float'), axis=0)\n",
    "    # tn = K.sum(K.cast((1-y_true)*(1-y_pred), 'float'), axis=0)\n",
    "    fp = K.sum(K.cast((1-y_true)*y_pred, 'float'), axis=0)\n",
    "    fn = K.sum(K.cast(y_true*(1-y_pred), 'float'), axis=0)\n",
    "\n",
    "    p = tp / (tp + fp + K.epsilon())\n",
    "    r = tp / (tp + fn + K.epsilon())\n",
    "\n",
    "    f1 = 2*p*r / (p+r+K.epsilon())\n",
    "    f1 = tf.where(tf.is_nan(f1), tf.zeros_like(f1), f1)\n",
    "    return K.mean(f1)\n",
    "\n",
    "# https://www.kaggle.com/code/guglielmocamporese/macro-f1-score-keras"
   ]
  },
  {
   "cell_type": "code",
   "execution_count": null,
   "id": "09bd75cd",
   "metadata": {},
   "outputs": [],
   "source": [
    "class MetricsCallback(keras.callbacks.Callback):\n",
    "    def __init__(self):\n",
    "        super(MetricsCallback, self).__init__()\n",
    "    def  on_train_begin(self,logs={}):\n",
    "      self.f1_macro=[]\n",
    "    def on_epoch_end(self, epoch, logs=None):\n",
    "      y_pred=self.model.predict(x_test).round()\n",
    "      y_true=y_test\n",
    "      score=f1_score(y_true, y_pred, average='macro')\n",
    "      self.f1_macro.append(score)\n",
    "      print(\" F1 macro :\",score)\n",
    "\n",
    "metrics=MetricsCallback()\n",
    "\n",
    "model.fit(x_train, y_train,validation_data=(x_test,y_test),batch_size=batch_size, epochs=5,callbacks=[metrics])\n",
    "\n",
    "# https://colab.research.google.com/drive/1hTf0LjO-h2l6diVkvj0gQme25clUdFt2#scrollTo=S3hxXkGocmUq\n",
    "# https://androidkt.com/calculate-f1-macro-in-keras/\n",
    "\n",
    "# multiclass f1 macro score https://towardsdatascience.com/f-beta-score-in-keras-part-ii-15f91f07c9a4\n"
   ]
  },
  {
   "cell_type": "code",
   "execution_count": null,
   "id": "b9931293",
   "metadata": {},
   "outputs": [],
   "source": [
    "mobilenet_model.compile(optimizer=Adam(learning_rate=0.0001), loss='categorical_crossentropy',metrics=['accuracy'])"
   ]
  },
  {
   "cell_type": "code",
   "execution_count": null,
   "id": "70f49608",
   "metadata": {},
   "outputs": [],
   "source": []
  }
 ],
 "metadata": {
  "kernelspec": {
   "display_name": "Python 3.9.13 ('NeuronalNetwork')",
   "language": "python",
   "name": "python3"
  },
  "language_info": {
   "codemirror_mode": {
    "name": "ipython",
    "version": 3
   },
   "file_extension": ".py",
   "mimetype": "text/x-python",
   "name": "python",
   "nbconvert_exporter": "python",
   "pygments_lexer": "ipython3",
   "version": "3.9.13"
  },
  "latex_envs": {
   "LaTeX_envs_menu_present": true,
   "autoclose": false,
   "autocomplete": true,
   "bibliofile": "biblio.bib",
   "cite_by": "apalike",
   "current_citInitial": 1,
   "eqLabelWithNumbers": true,
   "eqNumInitial": 1,
   "hotkeys": {
    "equation": "Ctrl-E",
    "itemize": "Ctrl-I"
   },
   "labels_anchors": false,
   "latex_user_defs": false,
   "report_style_numbering": false,
   "user_envs_cfg": false
  },
  "vscode": {
   "interpreter": {
    "hash": "ba370917a355ec78ddf17e7842e8975915af0e08f57c7dd5296cba069c129853"
   }
  },
  "widgets": {
   "application/vnd.jupyter.widget-state+json": {
    "state": {},
    "version_major": 2,
    "version_minor": 0
   }
  }
 },
 "nbformat": 4,
 "nbformat_minor": 5
}
