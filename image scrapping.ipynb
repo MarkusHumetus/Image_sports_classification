{
 "cells": [
  {
   "cell_type": "markdown",
   "id": "30a60c5b",
   "metadata": {},
   "source": [
    "# Index   "
   ]
  },
  {
   "cell_type": "markdown",
   "id": "8834dfc1",
   "metadata": {},
   "source": [
    "### Importing libraries"
   ]
  },
  {
   "cell_type": "code",
   "execution_count": 2,
   "id": "e6ed1927",
   "metadata": {},
   "outputs": [
    {
     "name": "stdout",
     "output_type": "stream",
     "text": [
      "python version: 3.7.12\n"
     ]
    }
   ],
   "source": [
    "from platform import python_version\n",
    "\n",
    "print('python version: %s' % python_version()) # print version"
   ]
  },
  {
   "cell_type": "code",
   "execution_count": 3,
   "id": "28defaef",
   "metadata": {},
   "outputs": [],
   "source": [
    "import os\n",
    "import json \n",
    "import requests\n",
    "import selenium\n",
    "from selenium import webdriver \n",
    "from selenium.webdriver.chrome.service import Service\n",
    "import base64\n",
    "import time\n",
    "import urllib.request\n"
   ]
  },
  {
   "cell_type": "code",
   "execution_count": 5,
   "id": "fd269019",
   "metadata": {},
   "outputs": [
    {
     "name": "stderr",
     "output_type": "stream",
     "text": [
      "C:\\Users\\march\\AppData\\Roaming\\Python\\Python37\\site-packages\\ipykernel_launcher.py:9: DeprecationWarning: executable_path has been deprecated, please pass in a Service object\n",
      "  if __name__ == \"__main__\":\n"
     ]
    },
    {
     "ename": "WebDriverException",
     "evalue": "Message: 'chromedriver.exe' executable needs to be in PATH. Please see https://chromedriver.chromium.org/home\n",
     "output_type": "error",
     "traceback": [
      "\u001b[1;31m---------------------------------------------------------------------------\u001b[0m",
      "\u001b[1;31mFileNotFoundError\u001b[0m                         Traceback (most recent call last)",
      "\u001b[1;32mc:\\Users\\march\\anaconda3\\envs\\Scrapping_and_BBDD\\lib\\site-packages\\selenium\\webdriver\\common\\service.py\u001b[0m in \u001b[0;36mstart\u001b[1;34m(self)\u001b[0m\n\u001b[0;32m     75\u001b[0m                                             \u001b[0mstdin\u001b[0m\u001b[1;33m=\u001b[0m\u001b[0mPIPE\u001b[0m\u001b[1;33m,\u001b[0m\u001b[1;33m\u001b[0m\u001b[1;33m\u001b[0m\u001b[0m\n\u001b[1;32m---> 76\u001b[1;33m                                             creationflags=self.creationflags)\n\u001b[0m\u001b[0;32m     77\u001b[0m         \u001b[1;32mexcept\u001b[0m \u001b[0mTypeError\u001b[0m\u001b[1;33m:\u001b[0m\u001b[1;33m\u001b[0m\u001b[1;33m\u001b[0m\u001b[0m\n",
      "\u001b[1;32mc:\\Users\\march\\anaconda3\\envs\\Scrapping_and_BBDD\\lib\\subprocess.py\u001b[0m in \u001b[0;36m__init__\u001b[1;34m(self, args, bufsize, executable, stdin, stdout, stderr, preexec_fn, close_fds, shell, cwd, env, universal_newlines, startupinfo, creationflags, restore_signals, start_new_session, pass_fds, encoding, errors, text)\u001b[0m\n\u001b[0;32m    799\u001b[0m                                 \u001b[0merrread\u001b[0m\u001b[1;33m,\u001b[0m \u001b[0merrwrite\u001b[0m\u001b[1;33m,\u001b[0m\u001b[1;33m\u001b[0m\u001b[1;33m\u001b[0m\u001b[0m\n\u001b[1;32m--> 800\u001b[1;33m                                 restore_signals, start_new_session)\n\u001b[0m\u001b[0;32m    801\u001b[0m         \u001b[1;32mexcept\u001b[0m\u001b[1;33m:\u001b[0m\u001b[1;33m\u001b[0m\u001b[1;33m\u001b[0m\u001b[0m\n",
      "\u001b[1;32mc:\\Users\\march\\anaconda3\\envs\\Scrapping_and_BBDD\\lib\\subprocess.py\u001b[0m in \u001b[0;36m_execute_child\u001b[1;34m(self, args, executable, preexec_fn, close_fds, pass_fds, cwd, env, startupinfo, creationflags, shell, p2cread, p2cwrite, c2pread, c2pwrite, errread, errwrite, unused_restore_signals, unused_start_new_session)\u001b[0m\n\u001b[0;32m   1206\u001b[0m                                          \u001b[0mos\u001b[0m\u001b[1;33m.\u001b[0m\u001b[0mfspath\u001b[0m\u001b[1;33m(\u001b[0m\u001b[0mcwd\u001b[0m\u001b[1;33m)\u001b[0m \u001b[1;32mif\u001b[0m \u001b[0mcwd\u001b[0m \u001b[1;32mis\u001b[0m \u001b[1;32mnot\u001b[0m \u001b[1;32mNone\u001b[0m \u001b[1;32melse\u001b[0m \u001b[1;32mNone\u001b[0m\u001b[1;33m,\u001b[0m\u001b[1;33m\u001b[0m\u001b[1;33m\u001b[0m\u001b[0m\n\u001b[1;32m-> 1207\u001b[1;33m                                          startupinfo)\n\u001b[0m\u001b[0;32m   1208\u001b[0m             \u001b[1;32mfinally\u001b[0m\u001b[1;33m:\u001b[0m\u001b[1;33m\u001b[0m\u001b[1;33m\u001b[0m\u001b[0m\n",
      "\u001b[1;31mFileNotFoundError\u001b[0m: [WinError 2] El sistema no puede encontrar el archivo especificado",
      "\nDuring handling of the above exception, another exception occurred:\n",
      "\u001b[1;31mWebDriverException\u001b[0m                        Traceback (most recent call last)",
      "\u001b[1;32m~\\AppData\\Local\\Temp\\ipykernel_18696\\3408103838.py\u001b[0m in \u001b[0;36m<module>\u001b[1;34m\u001b[0m\n\u001b[0;32m      7\u001b[0m \u001b[1;33m\u001b[0m\u001b[0m\n\u001b[0;32m      8\u001b[0m \u001b[1;33m\u001b[0m\u001b[0m\n\u001b[1;32m----> 9\u001b[1;33m \u001b[0mdriver\u001b[0m \u001b[1;33m=\u001b[0m \u001b[0mwebdriver\u001b[0m\u001b[1;33m.\u001b[0m\u001b[0mChrome\u001b[0m\u001b[1;33m(\u001b[0m\u001b[0mDRIVER_PATH\u001b[0m\u001b[1;33m)\u001b[0m\u001b[1;33m\u001b[0m\u001b[1;33m\u001b[0m\u001b[0m\n\u001b[0m\u001b[0;32m     10\u001b[0m \u001b[0mdriver\u001b[0m\u001b[1;33m.\u001b[0m\u001b[0mget\u001b[0m\u001b[1;33m(\u001b[0m\u001b[0mGOOGLE_IMAGES\u001b[0m\u001b[1;33m)\u001b[0m\u001b[1;33m\u001b[0m\u001b[1;33m\u001b[0m\u001b[0m\n",
      "\u001b[1;32mc:\\Users\\march\\anaconda3\\envs\\Scrapping_and_BBDD\\lib\\site-packages\\selenium\\webdriver\\chrome\\webdriver.py\u001b[0m in \u001b[0;36m__init__\u001b[1;34m(self, executable_path, port, options, service_args, desired_capabilities, service_log_path, chrome_options, service, keep_alive)\u001b[0m\n\u001b[0;32m     70\u001b[0m                          \u001b[0mport\u001b[0m\u001b[1;33m,\u001b[0m \u001b[0moptions\u001b[0m\u001b[1;33m,\u001b[0m\u001b[1;33m\u001b[0m\u001b[1;33m\u001b[0m\u001b[0m\n\u001b[0;32m     71\u001b[0m                          \u001b[0mservice_args\u001b[0m\u001b[1;33m,\u001b[0m \u001b[0mdesired_capabilities\u001b[0m\u001b[1;33m,\u001b[0m\u001b[1;33m\u001b[0m\u001b[1;33m\u001b[0m\u001b[0m\n\u001b[1;32m---> 72\u001b[1;33m                          service_log_path, service, keep_alive)\n\u001b[0m",
      "\u001b[1;32mc:\\Users\\march\\anaconda3\\envs\\Scrapping_and_BBDD\\lib\\site-packages\\selenium\\webdriver\\chromium\\webdriver.py\u001b[0m in \u001b[0;36m__init__\u001b[1;34m(self, browser_name, vendor_prefix, port, options, service_args, desired_capabilities, service_log_path, service, keep_alive)\u001b[0m\n\u001b[0;32m     87\u001b[0m \u001b[1;33m\u001b[0m\u001b[0m\n\u001b[0;32m     88\u001b[0m         \u001b[0mself\u001b[0m\u001b[1;33m.\u001b[0m\u001b[0mservice\u001b[0m \u001b[1;33m=\u001b[0m \u001b[0mservice\u001b[0m\u001b[1;33m\u001b[0m\u001b[1;33m\u001b[0m\u001b[0m\n\u001b[1;32m---> 89\u001b[1;33m         \u001b[0mself\u001b[0m\u001b[1;33m.\u001b[0m\u001b[0mservice\u001b[0m\u001b[1;33m.\u001b[0m\u001b[0mstart\u001b[0m\u001b[1;33m(\u001b[0m\u001b[1;33m)\u001b[0m\u001b[1;33m\u001b[0m\u001b[1;33m\u001b[0m\u001b[0m\n\u001b[0m\u001b[0;32m     90\u001b[0m \u001b[1;33m\u001b[0m\u001b[0m\n\u001b[0;32m     91\u001b[0m         \u001b[1;32mtry\u001b[0m\u001b[1;33m:\u001b[0m\u001b[1;33m\u001b[0m\u001b[1;33m\u001b[0m\u001b[0m\n",
      "\u001b[1;32mc:\\Users\\march\\anaconda3\\envs\\Scrapping_and_BBDD\\lib\\site-packages\\selenium\\webdriver\\common\\service.py\u001b[0m in \u001b[0;36mstart\u001b[1;34m(self)\u001b[0m\n\u001b[0;32m     81\u001b[0m                 raise WebDriverException(\n\u001b[0;32m     82\u001b[0m                     \"'{}' executable needs to be in PATH. {}\".format(\n\u001b[1;32m---> 83\u001b[1;33m                         os.path.basename(self.path), self.start_error_message)\n\u001b[0m\u001b[0;32m     84\u001b[0m                 )\n\u001b[0;32m     85\u001b[0m             \u001b[1;32melif\u001b[0m \u001b[0merr\u001b[0m\u001b[1;33m.\u001b[0m\u001b[0merrno\u001b[0m \u001b[1;33m==\u001b[0m \u001b[0merrno\u001b[0m\u001b[1;33m.\u001b[0m\u001b[0mEACCES\u001b[0m\u001b[1;33m:\u001b[0m\u001b[1;33m\u001b[0m\u001b[1;33m\u001b[0m\u001b[0m\n",
      "\u001b[1;31mWebDriverException\u001b[0m: Message: 'chromedriver.exe' executable needs to be in PATH. Please see https://chromedriver.chromium.org/home\n"
     ]
    }
   ],
   "source": [
    "\n"
   ]
  },
  {
   "cell_type": "code",
   "execution_count": 52,
   "id": "0f01fc0d",
   "metadata": {},
   "outputs": [
    {
     "name": "stderr",
     "output_type": "stream",
     "text": [
      "C:\\Users\\march\\AppData\\Roaming\\Python\\Python37\\site-packages\\ipykernel_launcher.py:8: DeprecationWarning: executable_path has been deprecated, please pass in a Service object\n",
      "  \n"
     ]
    }
   ],
   "source": [
    "\n",
    "DRIVER_PATH = 'c:\\\\Users\\\\march\\\\chromedriver.exe'\n",
    "\n",
    "SAVE_FOLDER_baseball = 'c:\\\\Users\\\\march\\\\Imágenes\\\\baseball'\n",
    "\n",
    "GOOGLE_IMAGES = 'https://www.bing.com/images/search?q=baseball&form=HDRSC2&first=1&tsc=ImageHoverTitle'\n",
    "\n",
    "\n",
    "driver = webdriver.Chrome(DRIVER_PATH)\n",
    "driver.get(GOOGLE_IMAGES)\n"
   ]
  },
  {
   "cell_type": "code",
   "execution_count": 53,
   "id": "dbca577c",
   "metadata": {},
   "outputs": [],
   "source": [
    "# Scroll to the end of the page\n",
    "def scroll_to_end():\n",
    "    driver.execute_script(\"window.scrollTo(0, document.body.scrollHeight);\")\n",
    "    time.sleep(5)\n",
    "    print('scroll done')\n"
   ]
  },
  {
   "cell_type": "code",
   "execution_count": 54,
   "id": "5f2a7074",
   "metadata": {},
   "outputs": [
    {
     "name": "stdout",
     "output_type": "stream",
     "text": [
      "scroll done\n"
     ]
    },
    {
     "ename": "AttributeError",
     "evalue": "'WebDriver' object has no attribute 'find_elements_by_class_name'",
     "output_type": "error",
     "traceback": [
      "\u001b[1;31m---------------------------------------------------------------------------\u001b[0m",
      "\u001b[1;31mAttributeError\u001b[0m                            Traceback (most recent call last)",
      "\u001b[1;32m~\\AppData\\Local\\Temp\\ipykernel_18696\\3102777187.py\u001b[0m in \u001b[0;36m<module>\u001b[1;34m\u001b[0m\n\u001b[0;32m      2\u001b[0m \u001b[1;32mfor\u001b[0m \u001b[0mi\u001b[0m \u001b[1;32min\u001b[0m \u001b[0mrange\u001b[0m\u001b[1;33m(\u001b[0m\u001b[1;36m1\u001b[0m\u001b[1;33m,\u001b[0m\u001b[1;36m10\u001b[0m\u001b[1;33m)\u001b[0m\u001b[1;33m:\u001b[0m\u001b[1;33m\u001b[0m\u001b[1;33m\u001b[0m\u001b[0m\n\u001b[0;32m      3\u001b[0m     \u001b[0mscroll_to_end\u001b[0m\u001b[1;33m(\u001b[0m\u001b[1;33m)\u001b[0m\u001b[1;33m\u001b[0m\u001b[1;33m\u001b[0m\u001b[0m\n\u001b[1;32m----> 4\u001b[1;33m     \u001b[0mimage_elements\u001b[0m \u001b[1;33m=\u001b[0m \u001b[0mdriver\u001b[0m\u001b[1;33m.\u001b[0m\u001b[0mfind_elements_by_class_name\u001b[0m\u001b[1;33m(\u001b[0m\u001b[1;34m\"rg_i Q4LuWd\"\u001b[0m\u001b[1;33m)\u001b[0m\u001b[1;31m#[0].text\u001b[0m\u001b[1;33m\u001b[0m\u001b[1;33m\u001b[0m\u001b[0m\n\u001b[0m\u001b[0;32m      5\u001b[0m     \u001b[0mprint\u001b[0m\u001b[1;33m(\u001b[0m\u001b[0mlen\u001b[0m\u001b[1;33m(\u001b[0m\u001b[0mimage_elements\u001b[0m\u001b[1;33m)\u001b[0m\u001b[1;33m)\u001b[0m\u001b[1;33m\u001b[0m\u001b[1;33m\u001b[0m\u001b[0m\n\u001b[0;32m      6\u001b[0m     \u001b[1;32mfor\u001b[0m \u001b[0mimage\u001b[0m \u001b[1;32min\u001b[0m \u001b[0mimage_elements\u001b[0m\u001b[1;33m:\u001b[0m\u001b[1;33m\u001b[0m\u001b[1;33m\u001b[0m\u001b[0m\n",
      "\u001b[1;31mAttributeError\u001b[0m: 'WebDriver' object has no attribute 'find_elements_by_class_name'"
     ]
    }
   ],
   "source": [
    "counter = 0\n",
    "for i in range(1,10):     \n",
    "    scroll_to_end()\n",
    "    image_elements = driver.find_elements_by_class_name(\"rg_i Q4LuWd\")#[0].text\n",
    "    print(len(image_elements))\n",
    "    for image in image_elements: \n",
    "        if (image.get_attribute('src') is not None):\n",
    "            my_image = image.get_attribute('src').split('data:image/jpeg;base64,')\n",
    "            filename = SAVE_FOLDER_baseball + 'baseball'+str(counter)+'.jpeg'\n",
    "            if(len(my_image) >1): \n",
    "                with open(filename, 'wb') as f: \n",
    "                    f.write(base64.b64decode(my_image[1]))\n",
    "            else: \n",
    "                print(image.get_attribute('src'))\n",
    "                urllib.request.urlretrieve(image.get_attribute('src'), SAVE_FOLDER_baseball + 'baseball'+ str(counter)+'.jpeg')\n",
    "            counter += 1\n"
   ]
  },
  {
   "cell_type": "markdown",
   "id": "70b828d3",
   "metadata": {},
   "source": [
    "# Seleneium 2a manarea"
   ]
  },
  {
   "cell_type": "markdown",
   "id": "e52d0f2f",
   "metadata": {},
   "source": [
    "https://medium.com/@wwwanandsuresh/web-scraping-images-from-google-9084545808a2"
   ]
  },
  {
   "cell_type": "code",
   "execution_count": 20,
   "id": "432fbada",
   "metadata": {},
   "outputs": [
    {
     "name": "stderr",
     "output_type": "stream",
     "text": [
      "C:\\Users\\march\\AppData\\Roaming\\Python\\Python37\\site-packages\\ipykernel_launcher.py:6: DeprecationWarning: executable_path has been deprecated, please pass in a Service object\n",
      "  \n"
     ]
    },
    {
     "ename": "WebDriverException",
     "evalue": "Message: unknown error: cannot determine loading status\nfrom disconnected: received Inspector.detached event\n  (Session info: chrome=104.0.5112.102)\nStacktrace:\nBacktrace:\n\tOrdinal0 [0x002378B3+2193587]\n\tOrdinal0 [0x001D0681+1771137]\n\tOrdinal0 [0x000E41A8+803240]\n\tOrdinal0 [0x000D7E1E+753182]\n\tOrdinal0 [0x000D7A0F+752143]\n\tOrdinal0 [0x000D6FAF+749487]\n\tOrdinal0 [0x000D5E94+745108]\n\tOrdinal0 [0x000D6498+746648]\n\tOrdinal0 [0x000E0610+787984]\n\tOrdinal0 [0x000D781D+751645]\n\tOrdinal0 [0x000D8450+754768]\n\tOrdinal0 [0x000D7A2A+752170]\n\tOrdinal0 [0x000D6FAF+749487]\n\tOrdinal0 [0x000D5E94+745108]\n\tOrdinal0 [0x000D636D+746349]\n\tOrdinal0 [0x000E5974+809332]\n\tOrdinal0 [0x0013E18D+1171853]\n\tOrdinal0 [0x0012D7AC+1103788]\n\tOrdinal0 [0x0013DAE2+1170146]\n\tOrdinal0 [0x0012D5C6+1103302]\n\tOrdinal0 [0x001077E0+948192]\n\tOrdinal0 [0x001086E6+952038]\n\tGetHandleVerifier [0x004E0CB2+2738370]\n\tGetHandleVerifier [0x004D21B8+2678216]\n\tGetHandleVerifier [0x002C17AA+512954]\n\tGetHandleVerifier [0x002C0856+509030]\n\tOrdinal0 [0x001D743B+1799227]\n\tOrdinal0 [0x001DBB68+1817448]\n\tOrdinal0 [0x001DBC55+1817685]\n\tOrdinal0 [0x001E5230+1856048]\n\tBaseThreadInitThunk [0x771FFA29+25]\n\tRtlGetAppContainerNamedObjectPath [0x77417A9E+286]\n\tRtlGetAppContainerNamedObjectPath [0x77417A6E+238]\n\t(No symbol) [0x00000000]\n",
     "output_type": "error",
     "traceback": [
      "\u001b[1;31m---------------------------------------------------------------------------\u001b[0m",
      "\u001b[1;31mWebDriverException\u001b[0m                        Traceback (most recent call last)",
      "\u001b[1;32m~\\AppData\\Local\\Temp\\ipykernel_18696\\3156484123.py\u001b[0m in \u001b[0;36m<module>\u001b[1;34m\u001b[0m\n\u001b[0;32m      5\u001b[0m \u001b[1;33m\u001b[0m\u001b[0m\n\u001b[0;32m      6\u001b[0m \u001b[0mwd\u001b[0m \u001b[1;33m=\u001b[0m \u001b[0mwebdriver\u001b[0m\u001b[1;33m.\u001b[0m\u001b[0mChrome\u001b[0m\u001b[1;33m(\u001b[0m\u001b[0mexecutable_path\u001b[0m\u001b[1;33m=\u001b[0m\u001b[0mDRIVER_PATH\u001b[0m\u001b[1;33m)\u001b[0m\u001b[1;33m\u001b[0m\u001b[1;33m\u001b[0m\u001b[0m\n\u001b[1;32m----> 7\u001b[1;33m \u001b[0mwd\u001b[0m\u001b[1;33m.\u001b[0m\u001b[0mget\u001b[0m\u001b[1;33m(\u001b[0m\u001b[1;34m'https://google.com'\u001b[0m\u001b[1;33m)\u001b[0m\u001b[1;33m\u001b[0m\u001b[1;33m\u001b[0m\u001b[0m\n\u001b[0m\u001b[0;32m      8\u001b[0m \u001b[0msearch_box\u001b[0m \u001b[1;33m=\u001b[0m \u001b[0mwd\u001b[0m\u001b[1;33m.\u001b[0m\u001b[0mfind_element_by_css_selector\u001b[0m\u001b[1;33m(\u001b[0m\u001b[1;34m'input.gLFyf'\u001b[0m\u001b[1;33m)\u001b[0m \u001b[1;31m#input box selector\u001b[0m\u001b[1;33m\u001b[0m\u001b[1;33m\u001b[0m\u001b[0m\n\u001b[0;32m      9\u001b[0m \u001b[0msearch_box\u001b[0m\u001b[1;33m.\u001b[0m\u001b[0msend_keys\u001b[0m\u001b[1;33m(\u001b[0m\u001b[1;34m'Any query'\u001b[0m\u001b[1;33m)\u001b[0m\u001b[1;33m\u001b[0m\u001b[1;33m\u001b[0m\u001b[0m\n",
      "\u001b[1;32mc:\\Users\\march\\anaconda3\\envs\\Scrapping_and_BBDD\\lib\\site-packages\\selenium\\webdriver\\remote\\webdriver.py\u001b[0m in \u001b[0;36mget\u001b[1;34m(self, url)\u001b[0m\n\u001b[0;32m    438\u001b[0m         \u001b[0mLoads\u001b[0m \u001b[0ma\u001b[0m \u001b[0mweb\u001b[0m \u001b[0mpage\u001b[0m \u001b[1;32min\u001b[0m \u001b[0mthe\u001b[0m \u001b[0mcurrent\u001b[0m \u001b[0mbrowser\u001b[0m \u001b[0msession\u001b[0m\u001b[1;33m.\u001b[0m\u001b[1;33m\u001b[0m\u001b[1;33m\u001b[0m\u001b[0m\n\u001b[0;32m    439\u001b[0m         \"\"\"\n\u001b[1;32m--> 440\u001b[1;33m         \u001b[0mself\u001b[0m\u001b[1;33m.\u001b[0m\u001b[0mexecute\u001b[0m\u001b[1;33m(\u001b[0m\u001b[0mCommand\u001b[0m\u001b[1;33m.\u001b[0m\u001b[0mGET\u001b[0m\u001b[1;33m,\u001b[0m \u001b[1;33m{\u001b[0m\u001b[1;34m'url'\u001b[0m\u001b[1;33m:\u001b[0m \u001b[0murl\u001b[0m\u001b[1;33m}\u001b[0m\u001b[1;33m)\u001b[0m\u001b[1;33m\u001b[0m\u001b[1;33m\u001b[0m\u001b[0m\n\u001b[0m\u001b[0;32m    441\u001b[0m \u001b[1;33m\u001b[0m\u001b[0m\n\u001b[0;32m    442\u001b[0m     \u001b[1;33m@\u001b[0m\u001b[0mproperty\u001b[0m\u001b[1;33m\u001b[0m\u001b[1;33m\u001b[0m\u001b[0m\n",
      "\u001b[1;32mc:\\Users\\march\\anaconda3\\envs\\Scrapping_and_BBDD\\lib\\site-packages\\selenium\\webdriver\\remote\\webdriver.py\u001b[0m in \u001b[0;36mexecute\u001b[1;34m(self, driver_command, params)\u001b[0m\n\u001b[0;32m    426\u001b[0m         \u001b[0mresponse\u001b[0m \u001b[1;33m=\u001b[0m \u001b[0mself\u001b[0m\u001b[1;33m.\u001b[0m\u001b[0mcommand_executor\u001b[0m\u001b[1;33m.\u001b[0m\u001b[0mexecute\u001b[0m\u001b[1;33m(\u001b[0m\u001b[0mdriver_command\u001b[0m\u001b[1;33m,\u001b[0m \u001b[0mparams\u001b[0m\u001b[1;33m)\u001b[0m\u001b[1;33m\u001b[0m\u001b[1;33m\u001b[0m\u001b[0m\n\u001b[0;32m    427\u001b[0m         \u001b[1;32mif\u001b[0m \u001b[0mresponse\u001b[0m\u001b[1;33m:\u001b[0m\u001b[1;33m\u001b[0m\u001b[1;33m\u001b[0m\u001b[0m\n\u001b[1;32m--> 428\u001b[1;33m             \u001b[0mself\u001b[0m\u001b[1;33m.\u001b[0m\u001b[0merror_handler\u001b[0m\u001b[1;33m.\u001b[0m\u001b[0mcheck_response\u001b[0m\u001b[1;33m(\u001b[0m\u001b[0mresponse\u001b[0m\u001b[1;33m)\u001b[0m\u001b[1;33m\u001b[0m\u001b[1;33m\u001b[0m\u001b[0m\n\u001b[0m\u001b[0;32m    429\u001b[0m             response['value'] = self._unwrap_value(\n\u001b[0;32m    430\u001b[0m                 response.get('value', None))\n",
      "\u001b[1;32mc:\\Users\\march\\anaconda3\\envs\\Scrapping_and_BBDD\\lib\\site-packages\\selenium\\webdriver\\remote\\errorhandler.py\u001b[0m in \u001b[0;36mcheck_response\u001b[1;34m(self, response)\u001b[0m\n\u001b[0;32m    241\u001b[0m                 \u001b[0malert_text\u001b[0m \u001b[1;33m=\u001b[0m \u001b[0mvalue\u001b[0m\u001b[1;33m[\u001b[0m\u001b[1;34m'alert'\u001b[0m\u001b[1;33m]\u001b[0m\u001b[1;33m.\u001b[0m\u001b[0mget\u001b[0m\u001b[1;33m(\u001b[0m\u001b[1;34m'text'\u001b[0m\u001b[1;33m)\u001b[0m\u001b[1;33m\u001b[0m\u001b[1;33m\u001b[0m\u001b[0m\n\u001b[0;32m    242\u001b[0m             \u001b[1;32mraise\u001b[0m \u001b[0mexception_class\u001b[0m\u001b[1;33m(\u001b[0m\u001b[0mmessage\u001b[0m\u001b[1;33m,\u001b[0m \u001b[0mscreen\u001b[0m\u001b[1;33m,\u001b[0m \u001b[0mstacktrace\u001b[0m\u001b[1;33m,\u001b[0m \u001b[0malert_text\u001b[0m\u001b[1;33m)\u001b[0m  \u001b[1;31m# type: ignore[call-arg]  # mypy is not smart enough here\u001b[0m\u001b[1;33m\u001b[0m\u001b[1;33m\u001b[0m\u001b[0m\n\u001b[1;32m--> 243\u001b[1;33m         \u001b[1;32mraise\u001b[0m \u001b[0mexception_class\u001b[0m\u001b[1;33m(\u001b[0m\u001b[0mmessage\u001b[0m\u001b[1;33m,\u001b[0m \u001b[0mscreen\u001b[0m\u001b[1;33m,\u001b[0m \u001b[0mstacktrace\u001b[0m\u001b[1;33m)\u001b[0m\u001b[1;33m\u001b[0m\u001b[1;33m\u001b[0m\u001b[0m\n\u001b[0m",
      "\u001b[1;31mWebDriverException\u001b[0m: Message: unknown error: cannot determine loading status\nfrom disconnected: received Inspector.detached event\n  (Session info: chrome=104.0.5112.102)\nStacktrace:\nBacktrace:\n\tOrdinal0 [0x002378B3+2193587]\n\tOrdinal0 [0x001D0681+1771137]\n\tOrdinal0 [0x000E41A8+803240]\n\tOrdinal0 [0x000D7E1E+753182]\n\tOrdinal0 [0x000D7A0F+752143]\n\tOrdinal0 [0x000D6FAF+749487]\n\tOrdinal0 [0x000D5E94+745108]\n\tOrdinal0 [0x000D6498+746648]\n\tOrdinal0 [0x000E0610+787984]\n\tOrdinal0 [0x000D781D+751645]\n\tOrdinal0 [0x000D8450+754768]\n\tOrdinal0 [0x000D7A2A+752170]\n\tOrdinal0 [0x000D6FAF+749487]\n\tOrdinal0 [0x000D5E94+745108]\n\tOrdinal0 [0x000D636D+746349]\n\tOrdinal0 [0x000E5974+809332]\n\tOrdinal0 [0x0013E18D+1171853]\n\tOrdinal0 [0x0012D7AC+1103788]\n\tOrdinal0 [0x0013DAE2+1170146]\n\tOrdinal0 [0x0012D5C6+1103302]\n\tOrdinal0 [0x001077E0+948192]\n\tOrdinal0 [0x001086E6+952038]\n\tGetHandleVerifier [0x004E0CB2+2738370]\n\tGetHandleVerifier [0x004D21B8+2678216]\n\tGetHandleVerifier [0x002C17AA+512954]\n\tGetHandleVerifier [0x002C0856+509030]\n\tOrdinal0 [0x001D743B+1799227]\n\tOrdinal0 [0x001DBB68+1817448]\n\tOrdinal0 [0x001DBC55+1817685]\n\tOrdinal0 [0x001E5230+1856048]\n\tBaseThreadInitThunk [0x771FFA29+25]\n\tRtlGetAppContainerNamedObjectPath [0x77417A9E+286]\n\tRtlGetAppContainerNamedObjectPath [0x77417A6E+238]\n\t(No symbol) [0x00000000]\n"
     ]
    }
   ],
   "source": [
    "import selenium\n",
    "from selenium import webdriver\n",
    "\n",
    "DRIVER_PATH =  'c:\\\\Users\\\\march\\\\chromedriver.exe'\n",
    "\n",
    "wd = webdriver.Chrome(executable_path=DRIVER_PATH)\n",
    "wd.get('https://google.com') \n",
    "search_box = wd.find_element_by_css_selector('input.gLFyf') #input box selector\n",
    "search_box.send_keys('Any query')"
   ]
  },
  {
   "cell_type": "code",
   "execution_count": 15,
   "id": "f08f4514",
   "metadata": {},
   "outputs": [],
   "source": [
    "def fetch_image_urls(query:str, max_links_to_fetch:int, wd:webdriver, sleep_between_interactions:int=1):\n",
    "    def scroll_to_end(wd):\n",
    "        wd.execute_script(\"window.scrollTo(0, document.body.scrollHeight);\")\n",
    "        time.sleep(sleep_between_interactions)    \n",
    "    \n",
    "    # build the google query\n",
    "    search_url = \"https://www.google.com/search?safe=off&site=&tbm=isch&source=hp&q={q}&oq={q}&gs_l=img\"\n",
    "\n",
    "    # load the page\n",
    "    wd.get(search_url.format(q=query))\n",
    "\n",
    "    image_urls = set()\n",
    "    image_count = 0\n",
    "    results_start = 0\n",
    "    while image_count < max_links_to_fetch:\n",
    "        scroll_to_end(wd)\n",
    "\n",
    "        # get all image thumbnail results\n",
    "        thumbnail_results = wd.find_elements_by_css_selector(\"img.Q4LuWd\")\n",
    "        number_results = len(thumbnail_results)\n",
    "        \n",
    "        print(f\"Found: {number_results} search results. Extracting links from {results_start}:{number_results}\")\n",
    "        \n",
    "        for img in thumbnail_results[results_start:number_results]:\n",
    "            # try to click every thumbnail such that we can get the real image behind it\n",
    "            try:\n",
    "                img.click()\n",
    "                time.sleep(sleep_between_interactions)\n",
    "            except Exception:\n",
    "                continue\n",
    "\n",
    "            # extract image urls    \n",
    "            actual_images = wd.find_elements_by_css_selector('img.n3VNCb')\n",
    "            for actual_image in actual_images:\n",
    "                if actual_image.get_attribute('src') and 'http' in actual_image.get_attribute('src'):\n",
    "                    image_urls.add(actual_image.get_attribute('src'))\n",
    "\n",
    "            image_count = len(image_urls)\n",
    "\n",
    "            if len(image_urls) >= max_links_to_fetch:\n",
    "                print(f\"Found: {len(image_urls)} image links, done!\")\n",
    "                break\n",
    "        else:\n",
    "            print(\"Found:\", len(image_urls), \"image links, looking for more ...\")\n",
    "            time.sleep(30)\n",
    "            return\n",
    "            load_more_button = wd.find_element_by_css_selector(\".mye4qd\")\n",
    "            if load_more_button:\n",
    "                wd.execute_script(\"document.querySelector('.mye4qd').click();\")\n",
    "\n",
    "        # move the result startpoint further down\n",
    "        results_start = len(thumbnail_results)\n",
    "\n",
    "    return image_urls"
   ]
  },
  {
   "cell_type": "code",
   "execution_count": 16,
   "id": "ce5e3a25",
   "metadata": {},
   "outputs": [],
   "source": [
    "def persist_image(folder_path:str,file_name:str,url:str):\n",
    "    try:\n",
    "        image_content = requests.get(url).content\n",
    "\n",
    "    except Exception as e:\n",
    "        print(f\"ERROR - Could not download {url} - {e}\")\n",
    "\n",
    "    try:\n",
    "        image_file = io.BytesIO(image_content)\n",
    "        image = Image.open(image_file).convert('RGB')\n",
    "        folder_path = os.path.join(folder_path,file_name)\n",
    "        if os.path.exists(folder_path):\n",
    "            file_path = os.path.join(folder_path,hashlib.sha1(image_content).hexdigest()[:10] + '.jpg')\n",
    "        else:\n",
    "            os.mkdir(folder_path)\n",
    "            file_path = os.path.join(folder_path,hashlib.sha1(image_content).hexdigest()[:10] + '.jpg')\n",
    "        with open(file_path, 'wb') as f:\n",
    "            image.save(f, \"JPEG\", quality=85)\n",
    "        print(f\"SUCCESS - saved {url} - as {file_path}\")\n",
    "    except Exception as e:\n",
    "        print(f\"ERROR - Could not save {url} - {e}\")"
   ]
  },
  {
   "cell_type": "code",
   "execution_count": null,
   "id": "6dc60404",
   "metadata": {},
   "outputs": [],
   "source": [
    "persist_image(folder_path:str,file_name:str,url:str)"
   ]
  },
  {
   "cell_type": "code",
   "execution_count": 21,
   "id": "a77996bd",
   "metadata": {},
   "outputs": [
    {
     "name": "stderr",
     "output_type": "stream",
     "text": [
      "C:\\Users\\march\\AppData\\Roaming\\Python\\Python37\\site-packages\\ipykernel_launcher.py:1: DeprecationWarning: executable_path has been deprecated, please pass in a Service object\n",
      "  \"\"\"Entry point for launching an IPython kernel.\n"
     ]
    },
    {
     "ename": "AttributeError",
     "evalue": "'WebDriver' object has no attribute 'find_element_by_css_selector'",
     "output_type": "error",
     "traceback": [
      "\u001b[1;31m---------------------------------------------------------------------------\u001b[0m",
      "\u001b[1;31mAttributeError\u001b[0m                            Traceback (most recent call last)",
      "\u001b[1;32m~\\AppData\\Local\\Temp\\ipykernel_18696\\227154008.py\u001b[0m in \u001b[0;36m<module>\u001b[1;34m\u001b[0m\n\u001b[0;32m      3\u001b[0m \u001b[1;32mfor\u001b[0m \u001b[0mquery\u001b[0m \u001b[1;32min\u001b[0m \u001b[0mqueries\u001b[0m\u001b[1;33m:\u001b[0m\u001b[1;33m\u001b[0m\u001b[1;33m\u001b[0m\u001b[0m\n\u001b[0;32m      4\u001b[0m     \u001b[0mwd\u001b[0m\u001b[1;33m.\u001b[0m\u001b[0mget\u001b[0m\u001b[1;33m(\u001b[0m\u001b[1;34m'https://google.com'\u001b[0m\u001b[1;33m)\u001b[0m\u001b[1;33m\u001b[0m\u001b[1;33m\u001b[0m\u001b[0m\n\u001b[1;32m----> 5\u001b[1;33m     \u001b[0msearch_box\u001b[0m \u001b[1;33m=\u001b[0m \u001b[0mwd\u001b[0m\u001b[1;33m.\u001b[0m\u001b[0mfind_element_by_css_selector\u001b[0m\u001b[1;33m(\u001b[0m\u001b[1;34m'input.gLFyf'\u001b[0m\u001b[1;33m)\u001b[0m\u001b[1;33m\u001b[0m\u001b[1;33m\u001b[0m\u001b[0m\n\u001b[0m\u001b[0;32m      6\u001b[0m     \u001b[0msearch_box\u001b[0m\u001b[1;33m.\u001b[0m\u001b[0msend_keys\u001b[0m\u001b[1;33m(\u001b[0m\u001b[0mquery\u001b[0m\u001b[1;33m)\u001b[0m\u001b[1;33m\u001b[0m\u001b[1;33m\u001b[0m\u001b[0m\n\u001b[0;32m      7\u001b[0m     \u001b[0mlinks\u001b[0m \u001b[1;33m=\u001b[0m \u001b[0mfetch_image_urls\u001b[0m\u001b[1;33m(\u001b[0m\u001b[0mquery\u001b[0m\u001b[1;33m,\u001b[0m\u001b[1;36m2\u001b[0m\u001b[1;33m,\u001b[0m\u001b[0mwd\u001b[0m\u001b[1;33m)\u001b[0m\u001b[1;33m\u001b[0m\u001b[1;33m\u001b[0m\u001b[0m\n",
      "\u001b[1;31mAttributeError\u001b[0m: 'WebDriver' object has no attribute 'find_element_by_css_selector'"
     ]
    }
   ],
   "source": [
    "wd = webdriver.Chrome(executable_path=DRIVER_PATH)\n",
    "queries = [\"CORONA-VIRUS\",\"oneplus 8\"]  #change your set of querries here\n",
    "for query in queries:\n",
    "    wd.get('https://google.com')\n",
    "    search_box = wd.find_element_by_css_selector('input.gLFyf')\n",
    "    search_box.send_keys(query)\n",
    "    links = fetch_image_urls(query,2,wd)\n",
    "    #images_path = '/Users/anand/Desktop/contri/images'  #enter your desired image path\n",
    "    images_path = 'ENTER_PATH_TO_IMAGES_FOLDER'\n",
    "    for i in links:\n",
    "        persist_image(images_path,query,i)\n",
    "wd.quit()"
   ]
  },
  {
   "cell_type": "markdown",
   "id": "16c76992",
   "metadata": {},
   "source": [
    "# 3a manera"
   ]
  },
  {
   "cell_type": "code",
   "execution_count": 23,
   "id": "9f23fc5d",
   "metadata": {},
   "outputs": [
    {
     "name": "stdout",
     "output_type": "stream",
     "text": [
      "Collecting google_images_download\n",
      "  Downloading google_images_download-2.8.0.tar.gz (14 kB)\n",
      "  Preparing metadata (setup.py): started\n",
      "  Preparing metadata (setup.py): finished with status 'done'\n",
      "Requirement already satisfied: selenium in c:\\users\\march\\anaconda3\\envs\\scrapping_and_bbdd\\lib\\site-packages (from google_images_download) (4.4.3)\n",
      "Requirement already satisfied: trio~=0.17 in c:\\users\\march\\anaconda3\\envs\\scrapping_and_bbdd\\lib\\site-packages (from selenium->google_images_download) (0.21.0)\n",
      "Requirement already satisfied: urllib3[socks]~=1.26 in c:\\users\\march\\appdata\\roaming\\python\\python37\\site-packages (from selenium->google_images_download) (1.26.8)\n",
      "Requirement already satisfied: trio-websocket~=0.9 in c:\\users\\march\\anaconda3\\envs\\scrapping_and_bbdd\\lib\\site-packages (from selenium->google_images_download) (0.9.2)\n",
      "Requirement already satisfied: certifi>=2021.10.8 in c:\\users\\march\\appdata\\roaming\\python\\python37\\site-packages (from selenium->google_images_download) (2021.10.8)\n",
      "Requirement already satisfied: sniffio in c:\\users\\march\\anaconda3\\envs\\scrapping_and_bbdd\\lib\\site-packages (from trio~=0.17->selenium->google_images_download) (1.3.0)\n",
      "Requirement already satisfied: async-generator>=1.9 in c:\\users\\march\\anaconda3\\envs\\scrapping_and_bbdd\\lib\\site-packages (from trio~=0.17->selenium->google_images_download) (1.10)\n",
      "Requirement already satisfied: outcome in c:\\users\\march\\anaconda3\\envs\\scrapping_and_bbdd\\lib\\site-packages (from trio~=0.17->selenium->google_images_download) (1.2.0)\n",
      "Requirement already satisfied: attrs>=19.2.0 in c:\\users\\march\\anaconda3\\envs\\scrapping_and_bbdd\\lib\\site-packages (from trio~=0.17->selenium->google_images_download) (22.1.0)\n",
      "Requirement already satisfied: cffi>=1.14 in c:\\users\\march\\anaconda3\\envs\\scrapping_and_bbdd\\lib\\site-packages (from trio~=0.17->selenium->google_images_download) (1.15.1)\n",
      "Requirement already satisfied: idna in c:\\users\\march\\appdata\\roaming\\python\\python37\\site-packages (from trio~=0.17->selenium->google_images_download) (3.3)\n",
      "Requirement already satisfied: sortedcontainers in c:\\users\\march\\anaconda3\\envs\\scrapping_and_bbdd\\lib\\site-packages (from trio~=0.17->selenium->google_images_download) (2.4.0)\n",
      "Requirement already satisfied: wsproto>=0.14 in c:\\users\\march\\anaconda3\\envs\\scrapping_and_bbdd\\lib\\site-packages (from trio-websocket~=0.9->selenium->google_images_download) (1.2.0)\n",
      "Requirement already satisfied: PySocks!=1.5.7,<2.0,>=1.5.6 in c:\\users\\march\\anaconda3\\envs\\scrapping_and_bbdd\\lib\\site-packages (from urllib3[socks]~=1.26->selenium->google_images_download) (1.7.1)\n",
      "Requirement already satisfied: pycparser in c:\\users\\march\\anaconda3\\envs\\scrapping_and_bbdd\\lib\\site-packages (from cffi>=1.14->trio~=0.17->selenium->google_images_download) (2.21)\n",
      "Requirement already satisfied: h11<1,>=0.9.0 in c:\\users\\march\\anaconda3\\envs\\scrapping_and_bbdd\\lib\\site-packages (from wsproto>=0.14->trio-websocket~=0.9->selenium->google_images_download) (0.13.0)\n",
      "Requirement already satisfied: typing-extensions in c:\\users\\march\\anaconda3\\envs\\scrapping_and_bbdd\\lib\\site-packages (from h11<1,>=0.9.0->wsproto>=0.14->trio-websocket~=0.9->selenium->google_images_download) (4.2.0)\n",
      "Building wheels for collected packages: google_images_download\n",
      "  Building wheel for google_images_download (setup.py): started\n",
      "  Building wheel for google_images_download (setup.py): finished with status 'done'\n",
      "  Created wheel for google_images_download: filename=google_images_download-2.8.0-py2.py3-none-any.whl size=14532 sha256=735310bbec406ac9e01175e4613e2492dde2548e472dc1a3342286e740fb4677\n",
      "  Stored in directory: c:\\users\\march\\appdata\\local\\pip\\cache\\wheels\\e3\\98\\42\\0d3a76d46cd5a6659afb2f5612d4908ca42d34060973d46727\n",
      "Successfully built google_images_download\n",
      "Installing collected packages: google_images_download\n",
      "Successfully installed google_images_download-2.8.0\n"
     ]
    },
    {
     "name": "stderr",
     "output_type": "stream",
     "text": [
      "WARNING: Ignoring invalid distribution -illow (c:\\users\\march\\appdata\\roaming\\python\\python37\\site-packages)\n",
      "WARNING: Ignoring invalid distribution -illow (c:\\users\\march\\appdata\\roaming\\python\\python37\\site-packages)\n",
      "WARNING: Ignoring invalid distribution -illow (c:\\users\\march\\appdata\\roaming\\python\\python37\\site-packages)\n",
      "WARNING: Ignoring invalid distribution -illow (c:\\users\\march\\appdata\\roaming\\python\\python37\\site-packages)\n",
      "WARNING: Ignoring invalid distribution -illow (c:\\users\\march\\appdata\\roaming\\python\\python37\\site-packages)\n",
      "WARNING: Ignoring invalid distribution -illow (c:\\users\\march\\appdata\\roaming\\python\\python37\\site-packages)\n"
     ]
    }
   ],
   "source": [
    "!pip install google_images_download"
   ]
  },
  {
   "cell_type": "code",
   "execution_count": null,
   "id": "10c64109",
   "metadata": {},
   "outputs": [],
   "source": []
  },
  {
   "cell_type": "code",
   "execution_count": null,
   "id": "def5673d",
   "metadata": {},
   "outputs": [],
   "source": [
    "https://github.com/hardikvasa/google-images-download/blob/master/README.rst"
   ]
  },
  {
   "cell_type": "code",
   "execution_count": 24,
   "id": "a72beae2",
   "metadata": {},
   "outputs": [],
   "source": [
    "from google_images_download import google_images_download   #importing the library\n"
   ]
  },
  {
   "cell_type": "code",
   "execution_count": 30,
   "id": "2566273f",
   "metadata": {},
   "outputs": [
    {
     "name": "stdout",
     "output_type": "stream",
     "text": [
      "\n",
      "Item no.: 1 --> Item name = baseball\n",
      "Evaluating...\n",
      "Starting Download...\n",
      "\n",
      "\n",
      "Unfortunately all 50 could not be downloaded because some images were not downloadable. 0 is all we got for this search filter!\n",
      "\n",
      "Errors: 0\n",
      "\n",
      "({'baseball': []}, 0)\n"
     ]
    }
   ],
   "source": [
    "\n",
    "response = google_images_download.googleimagesdownload()   #class instantiation\n",
    "\n",
    "arguments = {\"keywords\":\"baseball\",\"limit\":50,\"print_urls\":True}   #creating list of arguments\n",
    "paths = response.download(arguments)   #passing the arguments to the function\n",
    "print(paths)   #printing absolute paths of the downloaded images"
   ]
  },
  {
   "cell_type": "code",
   "execution_count": null,
   "id": "a1b0662a",
   "metadata": {},
   "outputs": [],
   "source": []
  },
  {
   "cell_type": "code",
   "execution_count": null,
   "id": "8c1cf89b",
   "metadata": {},
   "outputs": [],
   "source": [
    "# web scraping with beautiful soup"
   ]
  },
  {
   "cell_type": "code",
   "execution_count": null,
   "id": "4a5fa1f5",
   "metadata": {},
   "outputs": [],
   "source": [
    "https://w3resource.com/python-exercises/web-scraping/web-scraping-exercise-8.php"
   ]
  },
  {
   "cell_type": "code",
   "execution_count": 51,
   "id": "8cb56362",
   "metadata": {},
   "outputs": [],
   "source": [
    "from urllib.request import urlopen\n",
    "from bs4 import BeautifulSoup\n",
    "import re\n",
    "\n",
    "html = urlopen('https://www.bing.com/images/search?q=baseball&form=HDRSC2&first=1&tsc=ImageHoverTitle')\n",
    "bs = BeautifulSoup(html, 'html.parser')\n",
    "images = bs.find_all('img', {'src':re.compile('.jpg')})\n",
    "for image in images: \n",
    "    print(image['src']+'\\n')"
   ]
  },
  {
   "cell_type": "code",
   "execution_count": null,
   "id": "0c3c98cf",
   "metadata": {},
   "outputs": [],
   "source": []
  },
  {
   "cell_type": "code",
   "execution_count": null,
   "id": "d6a13798",
   "metadata": {},
   "outputs": [],
   "source": []
  },
  {
   "cell_type": "markdown",
   "id": "a16e0cfa",
   "metadata": {},
   "source": [
    "# bing-image-downloader"
   ]
  },
  {
   "cell_type": "markdown",
   "id": "2cabe636",
   "metadata": {},
   "source": [
    "https://pypi.org/project/bing-image-downloader/"
   ]
  },
  {
   "cell_type": "code",
   "execution_count": 56,
   "id": "28f368ce",
   "metadata": {},
   "outputs": [],
   "source": [
    "from bing_image_downloader import downloader\n"
   ]
  },
  {
   "cell_type": "code",
   "execution_count": 60,
   "id": "c0354b86",
   "metadata": {},
   "outputs": [
    {
     "name": "stdout",
     "output_type": "stream",
     "text": [
      "[%] Downloading Images to c:\\Users\\march\\000 Treball Ju`yter 000\\Hackathons\\Image_sports_classification\\dataset\\baseball match\n",
      "\n",
      "\n",
      "[!!]Indexing page: 1\n",
      "\n",
      "[%] Indexed 10 Images on Page 1.\n",
      "\n",
      "===============================================\n",
      "\n",
      "[%] Downloading Image #1 from https://i.ytimg.com/vi/3LL1K0AW0g4/maxresdefault.jpg\n",
      "[%] File Downloaded !\n",
      "\n",
      "[%] Downloading Image #2 from http://whatistheodds.com/wp-content/uploads/2019/03/MLB.jpg\n",
      "[%] File Downloaded !\n",
      "\n",
      "[%] Downloading Image #3 from https://images.freecreatives.com/wp-content/uploads/2016/08/Baseball-Event-Flyer-Template.jpg\n",
      "[%] File Downloaded !\n",
      "\n",
      "[%] Downloading Image #4 from https://www.bgsu.edu/content/dam/BGSU/news/2016/10/Baseball.jpg\n",
      "[%] File Downloaded !\n",
      "\n",
      "[%] Downloading Image #5 from https://www.sgshopfy.com/wp-content/uploads/2020/04/SmartBaseball2.jpg\n",
      "[!] Issue getting: https://www.sgshopfy.com/wp-content/uploads/2020/04/SmartBaseball2.jpg\n",
      "[!] Error:: <urlopen error [WinError 10060] Se produjo un error durante el intento de conexión ya que la parte conectada no respondió adecuadamente tras un periodo de tiempo, o bien se produjo un error en la conexión establecida ya que el host conectado no ha podido responder>\n",
      "[%] Downloading Image #5 from http://vsaauctions.com/ItemImages/000030/30721b_med.jpeg\n",
      "[%] File Downloaded !\n",
      "\n",
      "[%] Downloading Image #6 from https://p1-e6eeae93.imageflux.jp/c!/a=2,w=460,h=460/japango-em2/83ce7ccbaff7081336cd.jpeg\n",
      "[%] File Downloaded !\n",
      "\n",
      "[%] Downloading Image #7 from http://www.promotingathletes.com/images/640_DSCN0006_3_.JPG\n",
      "[%] File Downloaded !\n",
      "\n",
      "[%] Downloading Image #8 from http://www.gamewornauctions.net/images/products/secondary/21742.jpg\n",
      "[%] File Downloaded !\n",
      "\n",
      "[%] Downloading Image #9 from https://images.sampletemplates.com/wp-content/uploads/2016/05/02113815/Kids-Baseball-Flyer-.jpg\n",
      "[%] File Downloaded !\n",
      "\n",
      "\n",
      "\n",
      "[!!]Indexing page: 2\n",
      "\n",
      "[%] Indexed 17 Images on Page 2.\n",
      "\n",
      "===============================================\n",
      "\n",
      "[%] Downloading Image #10 from https://cdn.turtlediary.com/sports/baseball/page-11.png\n",
      "[%] File Downloaded !\n",
      "\n",
      "\n",
      "\n",
      "[%] Done. Downloaded 10 images.\n"
     ]
    }
   ],
   "source": [
    "downloader.download('baseball match', limit=10,  output_dir='dataset', adult_filter_off=True, force_replace=False, timeout=60, verbose=True)\n"
   ]
  },
  {
   "cell_type": "markdown",
   "id": "fcdf3204",
   "metadata": {},
   "source": [
    "# Image Validation"
   ]
  },
  {
   "cell_type": "code",
   "execution_count": 63,
   "id": "d96272c4",
   "metadata": {},
   "outputs": [
    {
     "ename": "SyntaxError",
     "evalue": "invalid syntax (605205561.py, line 36)",
     "output_type": "error",
     "traceback": [
      "\u001b[1;36m  File \u001b[1;32m\"C:\\Users\\march\\AppData\\Local\\Temp\\ipykernel_18696\\605205561.py\"\u001b[1;36m, line \u001b[1;32m36\u001b[0m\n\u001b[1;33m    if resposta in [1,2,3]\u001b[0m\n\u001b[1;37m                          ^\u001b[0m\n\u001b[1;31mSyntaxError\u001b[0m\u001b[1;31m:\u001b[0m invalid syntax\n"
     ]
    }
   ],
   "source": [
    "import matplotlib.pyplot as plt #\n",
    "import matplotlib.image as img #to open images\n",
    "\n",
    "\n",
    "def check_image(image_path, use_case):\n",
    "    '''Fuction to validate image as aimed for training. It asks user whether the images is valid to be used as traingin for the required\n",
    "            INPUT: 2 strings, the first one is the complete path to the image, 2nd one is the use case.\n",
    "            OUTPUT: a string saying the calidation code, options: 'valid' / 'not valid' / 'doubtful\n",
    "            CHECKINGS'\n",
    "            '''\n",
    "    classification = 'not valid'\n",
    "    if cv2.haveImageReader(img_path): #check if opencv can read the image\n",
    "\n",
    "        #  OPEN IMAGE\n",
    "        from mpl_toolkits.axes_grid1 import ImageGrid\n",
    "        fig = plt.figure(figsize=(20., 80.))\n",
    "        grid = ImageGrid(fig, 111,  # similar to subplot(111)\n",
    "                        nrows_ncols=(1, 3),  # creates 1x3 grid of axes\n",
    "                        axes_pad=0.1,  # pad between axes in inch.\n",
    "                        )\n",
    "        image = img.imread(image_path)\n",
    "        plt.imshow(image)\n",
    "        plt.show()\n",
    "\n",
    "\n",
    "        for ax, im in zip(grid, [img_sub1, img_sub3, img_sub2]):\n",
    "            # Iterating over the grid returns the Axes.    \n",
    "            ax.set_title('Subject')\n",
    "            ax.imshow(im)\n",
    "\n",
    "        plt.show()\n",
    "\n",
    "        correct=False\n",
    "        while correct==False:\n",
    "            resposta = input (f'The image is useful to {use_case} ?\\n Options: 1 = VALID / 2 = NOT VALID / 3 = VALID')\n",
    "            if resposta in [1,2,3]\n",
    "                correct=True\n",
    "            else:\n",
    "                print ('Incorrect answer!! \\n Please, choose a choice within the list: 1 / 2 / 3 !!!\\n')\n",
    "        \n",
    "        if resposta ==1:\n",
    "            classification = 'valid' \n",
    "        elif resposta ==1:\n",
    "            classification = 'valid' \n",
    "        \n",
    "\n",
    "            \n",
    "        \n",
    "            classification = 'not valid' \n",
    "            classification = 'doubtful'\n",
    "\n",
    "\n",
    "\n",
    "        return classification\n",
    "    else:\n",
    "        print ('It was not able to open the image. Possible causes: incorrect route, synthaxis, missing permissions,...')\n",
    "        return classification\n",
    "\n",
    "\n",
    "    correct=False\n",
    "    while correct=False:\n",
    "        resposta = input (f'The image is useful to {use_case} ?\\n Options: 1 = VALID / 2 = NOT VALID / 3 = UNKNOWN')\n",
    "        if resposta in [1,2,3]:\n",
    "            correct=True\n",
    "        else:\n",
    "            print ('Incorrect answer!! \\n Please, choose a choice within the list: 1 / 2 / 3 ')\n",
    "    classification ='unknown'\n",
    "    if resposta ==1:\n",
    "        classification = 'valid' \n",
    "        \n",
    "    \n",
    "        classification = 'not valid' \n",
    "        classification = 'doubtful'\n",
    "\n",
    "\n",
    "\n",
    "    return classification"
   ]
  },
  {
   "cell_type": "code",
   "execution_count": 65,
   "id": "77320feb",
   "metadata": {},
   "outputs": [],
   "source": [
    "import matplotlib.pyplot as plt #\n",
    "import matplotlib.image as img #to open images"
   ]
  },
  {
   "cell_type": "code",
   "execution_count": 66,
   "id": "38ee488d",
   "metadata": {},
   "outputs": [
    {
     "data": {
      "image/png": "[encoded data removed]",
      "text/plain": [
       "<Figure size 432x288 with 1 Axes>"
      ]
     },
     "metadata": {
      "needs_background": "light"
     },
     "output_type": "display_data"
    }
   ],
   "source": [
    "image = img.imread('C:\\\\Users\\\\march\\\\000 Treball Ju`yter 000\\\\Hackathons\\\\Image_sports_classification\\\\dataset\\\\baseball match\\\\Image_4.jpg')\n",
    "plt.imshow(image)\n",
    "plt.show()"
   ]
  },
  {
   "cell_type": "code",
   "execution_count": null,
   "id": "e206baf8",
   "metadata": {},
   "outputs": [],
   "source": []
  }
 ],
 "metadata": {
  "kernelspec": {
   "display_name": "Python 3.7.12 ('Scrapping_and_BBDD')",
   "language": "python",
   "name": "python3"
  },
  "language_info": {
   "codemirror_mode": {
    "name": "ipython",
    "version": 3
   },
   "file_extension": ".py",
   "mimetype": "text/x-python",
   "name": "python",
   "nbconvert_exporter": "python",
   "pygments_lexer": "ipython3",
   "version": "3.7.12"
  },
  "latex_envs": {
   "LaTeX_envs_menu_present": true,
   "autoclose": false,
   "autocomplete": true,
   "bibliofile": "biblio.bib",
   "cite_by": "apalike",
   "current_citInitial": 1,
   "eqLabelWithNumbers": true,
   "eqNumInitial": 1,
   "hotkeys": {
    "equation": "Ctrl-E",
    "itemize": "Ctrl-I"
   },
   "labels_anchors": false,
   "latex_user_defs": false,
   "report_style_numbering": false,
   "user_envs_cfg": false
  },
  "vscode": {
   "interpreter": {
    "hash": "4e40ef67ce1bbc9774e3d9c3c2867959c2d135b6c3d68f4d44ef323061ee0401"
   }
  },
  "widgets": {
   "application/vnd.jupyter.widget-state+json": {
    "state": {},
    "version_major": 2,
    "version_minor": 0
   }
  }
 },
 "nbformat": 4,
 "nbformat_minor": 5
}
