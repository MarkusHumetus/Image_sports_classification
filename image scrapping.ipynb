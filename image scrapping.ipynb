{
 "cells": [
  {
   "cell_type": "markdown",
   "id": "30a60c5b",
   "metadata": {},
   "source": [
    "# Index   "
   ]
  },
  {
   "cell_type": "markdown",
   "id": "8834dfc1",
   "metadata": {},
   "source": [
    "### Importing libraries"
   ]
  },
  {
   "cell_type": "code",
   "execution_count": 1,
   "id": "28defaef",
   "metadata": {},
   "outputs": [
    {
     "ename": "ModuleNotFoundError",
     "evalue": "No module named 'selenium'",
     "output_type": "error",
     "traceback": [
      "\u001b[1;31m---------------------------------------------------------------------------\u001b[0m",
      "\u001b[1;31mModuleNotFoundError\u001b[0m                       Traceback (most recent call last)",
      "\u001b[1;32m~\\AppData\\Local\\Temp\\ipykernel_19792\\4030885302.py\u001b[0m in \u001b[0;36m<module>\u001b[1;34m\u001b[0m\n\u001b[0;32m      2\u001b[0m \u001b[1;32mimport\u001b[0m \u001b[0mjson\u001b[0m\u001b[1;33m\u001b[0m\u001b[1;33m\u001b[0m\u001b[0m\n\u001b[0;32m      3\u001b[0m \u001b[1;32mimport\u001b[0m \u001b[0mrequests\u001b[0m\u001b[1;33m\u001b[0m\u001b[1;33m\u001b[0m\u001b[0m\n\u001b[1;32m----> 4\u001b[1;33m \u001b[1;32mimport\u001b[0m \u001b[0mselenium\u001b[0m\u001b[1;33m\u001b[0m\u001b[1;33m\u001b[0m\u001b[0m\n\u001b[0m\u001b[0;32m      5\u001b[0m \u001b[1;32mfrom\u001b[0m \u001b[0mselenium\u001b[0m \u001b[1;32mimport\u001b[0m \u001b[0mwebdriver\u001b[0m\u001b[1;33m\u001b[0m\u001b[1;33m\u001b[0m\u001b[0m\n\u001b[0;32m      6\u001b[0m \u001b[1;32mfrom\u001b[0m \u001b[0mselenium\u001b[0m\u001b[1;33m.\u001b[0m\u001b[0mwebdriver\u001b[0m\u001b[1;33m.\u001b[0m\u001b[0mchrome\u001b[0m\u001b[1;33m.\u001b[0m\u001b[0mservice\u001b[0m \u001b[1;32mimport\u001b[0m \u001b[0mService\u001b[0m\u001b[1;33m\u001b[0m\u001b[1;33m\u001b[0m\u001b[0m\n",
      "\u001b[1;31mModuleNotFoundError\u001b[0m: No module named 'selenium'"
     ]
    }
   ],
   "source": [
    "import os\n",
    "import json \n",
    "import requests\n",
    "import selenium\n",
    "from selenium import webdriver \n",
    "from selenium.webdriver.chrome.service import Service\n",
    "import base64\n",
    "import time\n",
    "import urllib.request\n"
   ]
  },
  {
   "cell_type": "code",
   "execution_count": null,
   "id": "fd269019",
   "metadata": {},
   "outputs": [],
   "source": [
    "\n",
    "DRIVER_PATH = '/usr/local/bin/chromedriver'\n",
    "\n",
    "SAVE_FOLDER = 'Helmets_classifier/helmet_images/'\n",
    "\n",
    "GOOGLE_IMAGES = 'https://www.google.com/search?q=hardhat&rlz=1C5CHFA_enGB937GB937&sxsrf=ALeKk02twWeFWJCESdRh27hZxC0iZwBS6w:1617724623722&source=lnms&tbm=isch&sa=X&ved=2ahUKEwiu0ans_envAhUkT98KHZ7CDiMQ_AUoAXoECAEQAw&biw=714&bih=732'\n",
    "\n",
    "\n",
    "driver = webdriver.Chrome(DRIVER_PATH)\n",
    "driver.get(GOOGLE_IMAGES)\n",
    "\n",
    "\n",
    "# Scroll to the end of the page\n",
    "def scroll_to_end():\n",
    "    driver.execute_script(\"window.scrollTo(0, document.body.scrollHeight);\")\n",
    "    time.sleep(5)\n",
    "    print('scroll done')\n",
    "\n",
    "counter = 0\n",
    "for i in range(1,10):     \n",
    "    scroll_to_end()\n",
    "    image_elements = driver.find_elements_by_class_name('rg_i')\n",
    "    print(len(image_elements))\n",
    "    for image in image_elements: \n",
    "        if (image.get_attribute('src') is not None):\n",
    "            my_image = image.get_attribute('src').split('data:image/jpeg;base64,')\n",
    "            filename = SAVE_FOLDER + 'helmet'+str(counter)+'.jpeg'\n",
    "            if(len(my_image) >1): \n",
    "                with open(filename, 'wb') as f: \n",
    "                    f.write(base64.b64decode(my_image[1]))\n",
    "            else: \n",
    "                print(image.get_attribute('src'))\n",
    "                urllib.request.urlretrieve(image.get_attribute('src'), SAVE_FOLDER + 'helmet'+ str(counter)+'.jpeg')\n",
    "            counter += 1\n",
    "Footer\n",
    "© 2022 GitHub, Inc.\n",
    "Footer navigation\n",
    "Terms\n",
    "Privacy\n",
    "Secu"
   ]
  },
  {
   "cell_type": "code",
   "execution_count": null,
   "id": "70b828d3",
   "metadata": {},
   "outputs": [],
   "source": []
  },
  {
   "cell_type": "code",
   "execution_count": null,
   "id": "f08f4514",
   "metadata": {},
   "outputs": [],
   "source": []
  }
 ],
 "metadata": {
  "kernelspec": {
   "display_name": "Python 3.7.12 ('Scrapping_and_BBDD')",
   "language": "python",
   "name": "python3"
  },
  "language_info": {
   "codemirror_mode": {
    "name": "ipython",
    "version": 3
   },
   "file_extension": ".py",
   "mimetype": "text/x-python",
   "name": "python",
   "nbconvert_exporter": "python",
   "pygments_lexer": "ipython3",
   "version": "3.7.12"
  },
  "latex_envs": {
   "LaTeX_envs_menu_present": true,
   "autoclose": false,
   "autocomplete": true,
   "bibliofile": "biblio.bib",
   "cite_by": "apalike",
   "current_citInitial": 1,
   "eqLabelWithNumbers": true,
   "eqNumInitial": 1,
   "hotkeys": {
    "equation": "Ctrl-E",
    "itemize": "Ctrl-I"
   },
   "labels_anchors": false,
   "latex_user_defs": false,
   "report_style_numbering": false,
   "user_envs_cfg": false
  },
  "vscode": {
   "interpreter": {
    "hash": "4e40ef67ce1bbc9774e3d9c3c2867959c2d135b6c3d68f4d44ef323061ee0401"
   }
  },
  "widgets": {
   "application/vnd.jupyter.widget-state+json": {
    "state": {},
    "version_major": 2,
    "version_minor": 0
   }
  }
 },
 "nbformat": 4,
 "nbformat_minor": 5
}
